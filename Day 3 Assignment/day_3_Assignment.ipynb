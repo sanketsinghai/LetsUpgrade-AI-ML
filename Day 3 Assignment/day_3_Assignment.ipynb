{
  "nbformat": 4,
  "nbformat_minor": 0,
  "metadata": {
    "colab": {
      "name": "day_3_Assignment.ipynb",
      "provenance": []
    },
    "kernelspec": {
      "name": "python3",
      "display_name": "Python 3"
    }
  },
  "cells": [
    {
      "cell_type": "markdown",
      "metadata": {
        "id": "0m5951DiClWw",
        "colab_type": "text"
      },
      "source": [
        "Question 1 :\n",
        "Write a program to subtract two complex numbers in Python."
      ]
    },
    {
      "cell_type": "code",
      "metadata": {
        "id": "0oTt31RpCmn1",
        "colab_type": "code",
        "colab": {
          "base_uri": "https://localhost:8080/",
          "height": 34
        },
        "outputId": "328fa300-3eb7-42c6-f121-529f9a31d3b3"
      },
      "source": [
        "a=5+6j\n",
        "b=3+4j\n",
        "c=a-b\n",
        "print(c)"
      ],
      "execution_count": 5,
      "outputs": [
        {
          "output_type": "stream",
          "text": [
            "(2+2j)\n"
          ],
          "name": "stdout"
        }
      ]
    },
    {
      "cell_type": "markdown",
      "metadata": {
        "id": "ruBSqZ9VDmQQ",
        "colab_type": "text"
      },
      "source": [
        "Question 2 :\n",
        "Write a program to find the fourth root of a number."
      ]
    },
    {
      "cell_type": "code",
      "metadata": {
        "id": "Ob642LqJC3vA",
        "colab_type": "code",
        "colab": {
          "base_uri": "https://localhost:8080/",
          "height": 34
        },
        "outputId": "42b183b9-c03e-4ec4-d782-15e2faca5824"
      },
      "source": [
        "n=16\n",
        "pow(n,1/4)"
      ],
      "execution_count": 10,
      "outputs": [
        {
          "output_type": "execute_result",
          "data": {
            "text/plain": [
              "2.0"
            ]
          },
          "metadata": {
            "tags": []
          },
          "execution_count": 10
        }
      ]
    },
    {
      "cell_type": "markdown",
      "metadata": {
        "id": "hX-EzdeqE_ZX",
        "colab_type": "text"
      },
      "source": [
        "Question 3:\n",
        "Write a program to swap two numbers in Python with the help of a temporary variable."
      ]
    },
    {
      "cell_type": "code",
      "metadata": {
        "id": "LxBCejHbEYrX",
        "colab_type": "code",
        "colab": {
          "base_uri": "https://localhost:8080/",
          "height": 51
        },
        "outputId": "43574368-11cb-4388-bf1e-7455ef6754bb"
      },
      "source": [
        "a=2\n",
        "b=3\n",
        "temp=0\n",
        "print(\"Before swaping the value of a is %d and value of b is %d\" %(a,b))\n",
        "temp=a\n",
        "a=b\n",
        "b=temp\n",
        "print(\"After swaping the value of a is %d and value of b is %d\" %(a,b))"
      ],
      "execution_count": 17,
      "outputs": [
        {
          "output_type": "stream",
          "text": [
            "Before swaping the value of a is 2 and valuse of b is 3\n",
            "After swaping the value of a is 3 and valuse of b is 2\n"
          ],
          "name": "stdout"
        }
      ]
    },
    {
      "cell_type": "markdown",
      "metadata": {
        "id": "siHgXuP2GyWg",
        "colab_type": "text"
      },
      "source": [
        "Question 4:\n",
        "Write a program to swap two numbers in Python without using a temporary variable.\n"
      ]
    },
    {
      "cell_type": "code",
      "metadata": {
        "id": "aCdYJ8uyGzz_",
        "colab_type": "code",
        "colab": {
          "base_uri": "https://localhost:8080/",
          "height": 51
        },
        "outputId": "c22e631d-7ae9-4ab9-e60a-f806117e1e20"
      },
      "source": [
        "a=2\n",
        "b=3\n",
        "print(\"Before swaping the value of a is %d and value of b is %d\" %(a,b))\n",
        "a,b=b,a\n",
        "print(\"After swaping the value of a is %d and value of b is %d\" %(a,b))"
      ],
      "execution_count": 18,
      "outputs": [
        {
          "output_type": "stream",
          "text": [
            "Before swaping the value of a is 2 and value of b is 3\n",
            "After swaping the value of a is 3 and value of b is 2\n"
          ],
          "name": "stdout"
        }
      ]
    },
    {
      "cell_type": "markdown",
      "metadata": {
        "id": "ymUdmkd5HF5J",
        "colab_type": "text"
      },
      "source": [
        "Question 5:\n",
        "Write a program to convert fahrenheit to kelvin and celsius both.\n"
      ]
    },
    {
      "cell_type": "code",
      "metadata": {
        "id": "Zd5Ez5JsFhHz",
        "colab_type": "code",
        "colab": {
          "base_uri": "https://localhost:8080/",
          "height": 68
        },
        "outputId": "2534ba59-f913-48f7-ac9c-f43bed07b6c4"
      },
      "source": [
        "f=50\n",
        "print(\"fahrenheit =\",f)\n",
        "c=(f-32)*5/9\n",
        "print(\"celsius = %d\" %(c))\n",
        "k=(f-32)*5/9+273.15\n",
        "print(\"kelvin = %d\" %(k))"
      ],
      "execution_count": 16,
      "outputs": [
        {
          "output_type": "stream",
          "text": [
            "fahrenheit = 50\n",
            "celsius = 10\n",
            "kelvin = 283\n"
          ],
          "name": "stdout"
        }
      ]
    },
    {
      "cell_type": "code",
      "metadata": {
        "id": "O9tFNZOr8Bf3",
        "colab_type": "code",
        "colab": {
          "base_uri": "https://localhost:8080/",
          "height": 170
        },
        "outputId": "26dda8db-2d74-42da-f2f7-0f09a5c38543"
      },
      "source": [
        "a=type(2)\n",
        "print(a)\n",
        "b=type(2.3)\n",
        "print(b)\n",
        "c=type(3+4j)\n",
        "print(c)\n",
        "d=type(\"hello\")\n",
        "print(d)\n",
        "e=type([1,2,3])\n",
        "print(e)\n",
        "f=type((1,2,3,4))\n",
        "print(f)\n",
        "g=type({1,\"two\",3,4})\n",
        "print(g)\n",
        "h=type({1:\"one\", 2:\"two\"})\n",
        "print(h)"
      ],
      "execution_count": 14,
      "outputs": [
        {
          "output_type": "stream",
          "text": [
            "<class 'int'>\n",
            "<class 'float'>\n",
            "<class 'complex'>\n",
            "<class 'str'>\n",
            "<class 'list'>\n",
            "<class 'tuple'>\n",
            "<class 'set'>\n",
            "<class 'dict'>\n",
            "<class 'str'> <class 'int'>\n"
          ],
          "name": "stdout"
        }
      ]
    },
    {
      "cell_type": "markdown",
      "metadata": {
        "id": "dXTmfxRiEW64",
        "colab_type": "text"
      },
      "source": [
        "Question 7:\n",
        "Create a Markdown cell in jupyter and list the steps discussed in the session by Dr. Darshan\n",
        "Ingle sir to create Github profile and upload Githubs Assignment link."
      ]
    },
    {
      "cell_type": "markdown",
      "metadata": {
        "id": "kO-rZzqlElZ6",
        "colab_type": "text"
      },
      "source": [
        "#Steps to create github profile \n",
        "\n",
        "\n",
        "1.   Create Github profile using login id and password.\n",
        "2.   Create a Github public repo and name it LetsUpgrade AI/ML\n",
        "3.   Upload the files/solution in the repo in day wise manner as folder.\n",
        "4.   Copy the URL of the Folder of that day and paste in the Assignment Submission \n",
        "5.   Copy the URL of the Folder of that day and paste in the Assignment Submission Form (Google Form)\n"
      ]
    },
    {
      "cell_type": "code",
      "metadata": {
        "id": "l_SzWIiaFvS6",
        "colab_type": "code",
        "colab": {}
      },
      "source": [
        ""
      ],
      "execution_count": null,
      "outputs": []
    }
  ]
}
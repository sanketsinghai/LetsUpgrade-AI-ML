{
  "nbformat": 4,
  "nbformat_minor": 0,
  "metadata": {
    "kernelspec": {
      "display_name": "Python 3",
      "language": "python",
      "name": "python3"
    },
    "language_info": {
      "codemirror_mode": {
        "name": "ipython",
        "version": 3
      },
      "file_extension": ".py",
      "mimetype": "text/x-python",
      "name": "python",
      "nbconvert_exporter": "python",
      "pygments_lexer": "ipython3",
      "version": "3.7.2"
    },
    "toc": {
      "base_numbering": 1,
      "nav_menu": {},
      "number_sections": false,
      "sideBar": true,
      "skip_h1_title": true,
      "title_cell": "Table of Contents",
      "title_sidebar": "Contents",
      "toc_cell": false,
      "toc_position": {
        "height": "calc(100% - 180px)",
        "left": "10px",
        "top": "150px",
        "width": "170.486px"
      },
      "toc_section_display": true,
      "toc_window_display": false
    },
    "varInspector": {
      "cols": {
        "lenName": 16,
        "lenType": 16,
        "lenVar": 40
      },
      "kernels_config": {
        "python": {
          "delete_cmd_postfix": "",
          "delete_cmd_prefix": "del ",
          "library": "var_list.py",
          "varRefreshCmd": "print(var_dic_list())"
        },
        "r": {
          "delete_cmd_postfix": ") ",
          "delete_cmd_prefix": "rm(",
          "library": "var_list.r",
          "varRefreshCmd": "cat(var_dic_list()) "
        }
      },
      "types_to_exclude": [
        "module",
        "function",
        "builtin_function_or_method",
        "instance",
        "_Feature"
      ],
      "window_display": false
    },
    "colab": {
      "name": "Day 6 Assignment.ipynb",
      "provenance": [],
      "collapsed_sections": []
    }
  },
  "cells": [
    {
      "cell_type": "markdown",
      "metadata": {
        "id": "WWcAR7LcAr2o",
        "colab_type": "text"
      },
      "source": [
        "# **Question 1**"
      ]
    },
    {
      "cell_type": "code",
      "metadata": {
        "id": "4DIHgptuAr2s",
        "colab_type": "code",
        "colab": {},
        "outputId": "2cae50b1-ef3a-4084-c304-d826b8738722"
      },
      "source": [
        "email = input('Enter your email address: ')\n",
        "company = email.split('@')[1].split('.')[0]\n",
        "print(f'Company name is: {company}')"
      ],
      "execution_count": null,
      "outputs": [
        {
          "output_type": "stream",
          "text": [
            "Enter your email address: test@gmail.com\n",
            "Company name is: gmail\n"
          ],
          "name": "stdout"
        }
      ]
    },
    {
      "cell_type": "markdown",
      "metadata": {
        "id": "7ySd8ZYRAr23",
        "colab_type": "text"
      },
      "source": [
        "# **Question 2**"
      ]
    },
    {
      "cell_type": "code",
      "metadata": {
        "scrolled": true,
        "id": "HVVEnEcMAr24",
        "colab_type": "code",
        "colab": {
          "base_uri": "https://localhost:8080/",
          "height": 51
        },
        "outputId": "c5b23a2c-0e86-486c-d869-45a0ceabb8a7"
      },
      "source": [
        "words = input('Enter the words: ').split(',')\n",
        "words.sort()\n",
        "words_sorted = ','.join(i for i in words)\n",
        "print(words_sorted)"
      ],
      "execution_count": 2,
      "outputs": [
        {
          "output_type": "stream",
          "text": [
            "Enter the words: sdfsa,sadfasf,sadfas,fsdf,asfasf,safsa,fasf,asf,asfas,fas,fasdf,sadf,asfas,f\n",
            "asf,asfas,asfas,asfasf,f,fas,fasdf,fasf,fsdf,sadf,sadfas,sadfasf,safsa,sdfsa\n"
          ],
          "name": "stdout"
        }
      ]
    },
    {
      "cell_type": "markdown",
      "metadata": {
        "id": "TBn4RSDrAr2-",
        "colab_type": "text"
      },
      "source": [
        "# **Question 3**"
      ]
    },
    {
      "cell_type": "markdown",
      "metadata": {
        "id": "Oin2j8w-Ar2_",
        "colab_type": "text"
      },
      "source": [
        "###  Sets\n",
        "\n",
        "- A set is an unordered collection of iterable data which has no duplicate element and is also mutable\n",
        "\n",
        "- Since set is unordered and unindexed, the elements of a set cannot be accessed by their indexes, but as set has iterable data the elements can be accessed using a **for** loop\n",
        "\n",
        "- The elements of the set cannot be edited but new elements can be added into the set using the following methods:\n",
        "    - **add()** is used to add single element\n",
        "    - **update()** is used to add multiple elements\n",
        "    \n",
        "- The elements can be removed from the sets using the following methods:\n",
        "    - **remove()**\n",
        "    - **discard()**\n",
        "    > The difference between these methods is that if the element the user wants to remove is not present in the set **remove()** raises an error where as **discard()** doesn't\n",
        "    \n",
        "- As set being unordered when we use **pop()** method we cannot predict which element is being poped out\n",
        "\n",
        "- **clear()** can be used to empty the set and **del** can be used to delete the set completely\n",
        "\n",
        "- Set class represents the mathematical notion of a set which allows the user to perform the basic mathematical operations of a set namely, **symmetric_difference()**, **union()**, **intersection()**, **difference()**, **isdisjoint()**\n",
        "\n",
        "- Similarly **copy()**, **issubset()**, **issuperset()** can be used on a set"
      ]
    },
    {
      "cell_type": "code",
      "metadata": {
        "id": "CHVYVOlMAr3A",
        "colab_type": "code",
        "colab": {},
        "outputId": "8f0c47dc-93d7-4e39-b6eb-eca24e604e02"
      },
      "source": [
        "s = {1,2,3,4,5}\n",
        "print(s)"
      ],
      "execution_count": null,
      "outputs": [
        {
          "output_type": "stream",
          "text": [
            "{1, 2, 3, 4, 5}\n"
          ],
          "name": "stdout"
        }
      ]
    },
    {
      "cell_type": "code",
      "metadata": {
        "id": "uvUqBRAUAr3F",
        "colab_type": "code",
        "colab": {},
        "outputId": "775d2627-157d-41ae-85ec-3933cbdeb3c4"
      },
      "source": [
        "print(type(s))\n",
        "for i in s:\n",
        "    print(i)"
      ],
      "execution_count": null,
      "outputs": [
        {
          "output_type": "stream",
          "text": [
            "<class 'set'>\n",
            "1\n",
            "2\n",
            "3\n",
            "4\n",
            "5\n"
          ],
          "name": "stdout"
        }
      ]
    },
    {
      "cell_type": "code",
      "metadata": {
        "id": "Dc_-2aqGAr3M",
        "colab_type": "code",
        "colab": {},
        "outputId": "1aae7737-02da-4877-c0a0-8a19b4d13d5b"
      },
      "source": [
        "s.add(6)\n",
        "s"
      ],
      "execution_count": null,
      "outputs": [
        {
          "output_type": "execute_result",
          "data": {
            "text/plain": [
              "{1, 2, 3, 4, 5, 6}"
            ]
          },
          "metadata": {
            "tags": []
          },
          "execution_count": 5
        }
      ]
    },
    {
      "cell_type": "code",
      "metadata": {
        "id": "RddDvkJvAr3S",
        "colab_type": "code",
        "colab": {},
        "outputId": "ace83b34-15cc-4991-d0df-96f118ec18c8"
      },
      "source": [
        "s.update([7,8,9])\n",
        "s"
      ],
      "execution_count": null,
      "outputs": [
        {
          "output_type": "execute_result",
          "data": {
            "text/plain": [
              "{1, 2, 3, 4, 5, 6, 7, 8, 9}"
            ]
          },
          "metadata": {
            "tags": []
          },
          "execution_count": 6
        }
      ]
    },
    {
      "cell_type": "code",
      "metadata": {
        "id": "zRbwjlBAAr3Y",
        "colab_type": "code",
        "colab": {},
        "outputId": "5e7b11db-93fb-4aac-95b4-15fa2862656d"
      },
      "source": [
        "s.remove(8)\n",
        "s"
      ],
      "execution_count": null,
      "outputs": [
        {
          "output_type": "execute_result",
          "data": {
            "text/plain": [
              "{1, 2, 3, 4, 5, 6, 7, 9}"
            ]
          },
          "metadata": {
            "tags": []
          },
          "execution_count": 7
        }
      ]
    },
    {
      "cell_type": "code",
      "metadata": {
        "id": "jC5mBxuFAr3d",
        "colab_type": "code",
        "colab": {
          "base_uri": "https://localhost:8080/",
          "height": 163
        },
        "outputId": "b4de3613-0acb-40e7-9bdc-da79328e2d2f"
      },
      "source": [
        "s.remove(8)           # will give error"
      ],
      "execution_count": 3,
      "outputs": [
        {
          "output_type": "error",
          "ename": "NameError",
          "evalue": "ignored",
          "traceback": [
            "\u001b[0;31m---------------------------------------------------------------------------\u001b[0m",
            "\u001b[0;31mNameError\u001b[0m                                 Traceback (most recent call last)",
            "\u001b[0;32m<ipython-input-3-306d6f247bc3>\u001b[0m in \u001b[0;36m<module>\u001b[0;34m()\u001b[0m\n\u001b[0;32m----> 1\u001b[0;31m \u001b[0ms\u001b[0m\u001b[0;34m.\u001b[0m\u001b[0mremove\u001b[0m\u001b[0;34m(\u001b[0m\u001b[0;36m8\u001b[0m\u001b[0;34m)\u001b[0m           \u001b[0;31m# will give error\u001b[0m\u001b[0;34m\u001b[0m\u001b[0;34m\u001b[0m\u001b[0m\n\u001b[0m",
            "\u001b[0;31mNameError\u001b[0m: name 's' is not defined"
          ]
        }
      ]
    },
    {
      "cell_type": "code",
      "metadata": {
        "id": "CSBlR3toAr3i",
        "colab_type": "code",
        "colab": {},
        "outputId": "97ce3a7f-4459-4652-90df-da4007f3e624"
      },
      "source": [
        "s.discard(9)\n",
        "s"
      ],
      "execution_count": null,
      "outputs": [
        {
          "output_type": "execute_result",
          "data": {
            "text/plain": [
              "{1, 2, 3, 4, 5, 6, 7}"
            ]
          },
          "metadata": {
            "tags": []
          },
          "execution_count": 9
        }
      ]
    },
    {
      "cell_type": "code",
      "metadata": {
        "id": "LwB7AoaNAr3m",
        "colab_type": "code",
        "colab": {}
      },
      "source": [
        "s.discard(9)           # will not give error"
      ],
      "execution_count": null,
      "outputs": []
    },
    {
      "cell_type": "code",
      "metadata": {
        "id": "QalQ5G4xAr3q",
        "colab_type": "code",
        "colab": {},
        "outputId": "6aed0f31-b38c-4a51-9901-e72b2bcf617e"
      },
      "source": [
        "poped = s.pop()\n",
        "poped"
      ],
      "execution_count": null,
      "outputs": [
        {
          "output_type": "execute_result",
          "data": {
            "text/plain": [
              "1"
            ]
          },
          "metadata": {
            "tags": []
          },
          "execution_count": 11
        }
      ]
    },
    {
      "cell_type": "code",
      "metadata": {
        "id": "F3zex-o5Ar3w",
        "colab_type": "code",
        "colab": {},
        "outputId": "721a0cfb-2e55-4895-cda4-e49659872c32"
      },
      "source": [
        "s.clear()\n",
        "s"
      ],
      "execution_count": null,
      "outputs": [
        {
          "output_type": "execute_result",
          "data": {
            "text/plain": [
              "set()"
            ]
          },
          "metadata": {
            "tags": []
          },
          "execution_count": 12
        }
      ]
    },
    {
      "cell_type": "code",
      "metadata": {
        "id": "hakSxNrfAr30",
        "colab_type": "code",
        "colab": {},
        "outputId": "28fe08f4-c932-4264-d1fc-6d5f26d57792"
      },
      "source": [
        "del s\n",
        "s                  # error because s is deleted"
      ],
      "execution_count": null,
      "outputs": [
        {
          "output_type": "error",
          "ename": "NameError",
          "evalue": "name 's' is not defined",
          "traceback": [
            "\u001b[1;31m---------------------------------------------------------------------------\u001b[0m",
            "\u001b[1;31mNameError\u001b[0m                                 Traceback (most recent call last)",
            "\u001b[1;32m<ipython-input-13-102c200e0a4b>\u001b[0m in \u001b[0;36m<module>\u001b[1;34m\u001b[0m\n\u001b[0;32m      1\u001b[0m \u001b[1;32mdel\u001b[0m \u001b[0ms\u001b[0m\u001b[1;33m\u001b[0m\u001b[1;33m\u001b[0m\u001b[0m\n\u001b[1;32m----> 2\u001b[1;33m \u001b[0ms\u001b[0m                  \u001b[1;31m# error because s is deleted\u001b[0m\u001b[1;33m\u001b[0m\u001b[1;33m\u001b[0m\u001b[0m\n\u001b[0m",
            "\u001b[1;31mNameError\u001b[0m: name 's' is not defined"
          ]
        }
      ]
    },
    {
      "cell_type": "markdown",
      "metadata": {
        "id": "mwFSWFHTAr34",
        "colab_type": "text"
      },
      "source": [
        "# **Question 4**"
      ]
    },
    {
      "cell_type": "code",
      "metadata": {
        "id": "zYl1ZxiFAr35",
        "colab_type": "code",
        "colab": {
          "base_uri": "https://localhost:8080/",
          "height": 51
        },
        "outputId": "5d432a97-c476-4ed4-9fda-c9e6473b2b3c"
      },
      "source": [
        "nums = set([int(i) for i in input().split()])\n",
        "full = set([i for i in range(1, max(nums)+1)])\n",
        "print(*(nums ^ full))"
      ],
      "execution_count": 3,
      "outputs": [
        {
          "output_type": "stream",
          "text": [
            "1 2 4 6 3 7 8\n",
            "5\n"
          ],
          "name": "stdout"
        }
      ]
    },
    {
      "cell_type": "markdown",
      "metadata": {
        "id": "vrBlNpKhAr39",
        "colab_type": "text"
      },
      "source": [
        "# **Question 5**"
      ]
    },
    {
      "cell_type": "code",
      "metadata": {
        "id": "92QSJ31PAr3-",
        "colab_type": "code",
        "colab": {
          "base_uri": "https://localhost:8080/",
          "height": 51
        },
        "outputId": "4dcb4b7e-6b53-4229-fea5-8797853aa592"
      },
      "source": [
        "nums = [int(i) for i in input().split()]\n",
        "print(*sorted(set(nums), key = nums.index))"
      ],
      "execution_count": 2,
      "outputs": [
        {
          "output_type": "stream",
          "text": [
            "12 24 35 24 88 120 155 88 120 155\n",
            "12 24 35 88 120 155\n"
          ],
          "name": "stdout"
        }
      ]
    }
  ]
}